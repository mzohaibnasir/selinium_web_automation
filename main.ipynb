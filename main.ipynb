{
 "cells": [
  {
   "cell_type": "code",
   "execution_count": 18,
   "metadata": {},
   "outputs": [],
   "source": [
    "# ! pip install selenium\n",
    "# ! pip install webdriver-manager"
   ]
  },
  {
   "cell_type": "code",
   "execution_count": null,
   "metadata": {},
   "outputs": [],
   "source": []
  },
  {
   "cell_type": "code",
   "execution_count": null,
   "metadata": {},
   "outputs": [],
   "source": [
    "import selenium\n",
    "from selenium import webdriver\n",
    "\n",
    "from selenium.webdriver.chrome.service import Service  # webdriver is automation tool"
   ]
  },
  {
   "cell_type": "code",
   "execution_count": null,
   "metadata": {},
   "outputs": [
    {
     "data": {
      "text/plain": [
       "<selenium.webdriver.chrome.webdriver.WebDriver (session=\"9148a593a03000f27b4b5fe870013ff8\")>"
      ]
     },
     "execution_count": 16,
     "metadata": {},
     "output_type": "execute_result"
    }
   ],
   "source": [
    "# service = Service(executable_path=\"\")\n",
    "service = Service(\n",
    "    executable_path=\"./chrome-headless-shell-linux64/chrome-headless-shell\"\n",
    ")\n",
    "driver = webdriver.Chrome(service=service)\n",
    "driver"
   ]
  },
  {
   "cell_type": "code",
   "execution_count": null,
   "metadata": {},
   "outputs": [],
   "source": []
  },
  {
   "cell_type": "code",
   "execution_count": null,
   "metadata": {},
   "outputs": [],
   "source": []
  },
  {
   "cell_type": "code",
   "execution_count": null,
   "metadata": {},
   "outputs": [],
   "source": []
  },
  {
   "cell_type": "code",
   "execution_count": null,
   "metadata": {},
   "outputs": [],
   "source": []
  },
  {
   "cell_type": "code",
   "execution_count": 4,
   "metadata": {},
   "outputs": [],
   "source": [
    "from selenium import webdriver\n",
    "from selenium.webdriver.chrome.service import Service\n",
    "from selenium.webdriver.chrome.options import Options\n",
    "from selenium.webdriver.common.by import By  # search for elements\n",
    "from selenium.webdriver.common.keys import Keys\n",
    "\n",
    "# thee will allow us to wait for presence of the element\n",
    "from selenium.webdriver.support.ui import WebDriverWait\n",
    "from selenium.webdriver.support import expected_conditions as EC\n",
    "import time\n",
    "\n",
    "# Configure Chrome options\n",
    "chrome_options = Options()\n",
    "# chrome_options.binary_location = \"./chrome-headless-shell-linux64/chrome-headless-shell\"\n",
    "# chrome_options.add_argument(\"--headless\")  # Ensure headless mode\n",
    "chrome_options.add_argument(\"--no-sandbox\")\n",
    "chrome_options.add_argument(\"--disable-dev-shm-usage\")\n",
    "chrome_options.add_argument(\"--window-size=1920,1080\")  # Sets window size\n",
    "\n",
    "# Set up the service\n",
    "service = Service(executable_path=\"\")\n",
    "\n",
    "# Initialize the driver with the configured options\n",
    "driver = webdriver.Chrome(service=service, options=chrome_options)\n",
    "\n",
    "# Now you can use the driver\n",
    "driver\n",
    "\n",
    "driver.get(\"https://google.com\")\n",
    "\n",
    "\n",
    "# so checking for existance of element\n",
    "# sometimes site may take some time to load completely.... waitin gfor elemnt to exist\n",
    "WebDriverWait(driver=driver, timeout=5).until(\n",
    "    EC.presence_of_element_located((By.CLASS_NAME, \"gLFyf\"))\n",
    ")\n",
    "# wait foe elemetnt for 5s untill we located an lelmendt by class name or crash after 5s\n",
    "\n",
    "# accessing the element\n",
    "input_element = driver.find_element(By.CLASS_NAME, \"gLFyf\")\n",
    "# clearing prior data\n",
    "input_element.clear()\n",
    "# adding data + action\n",
    "input_element.send_keys(\"Hello World!\" + Keys.ENTER)\n",
    "\n",
    "#############################################################################3\n",
    "\n",
    "\n",
    "WebDriverWait(driver=driver, timeout=5).until(\n",
    "    EC.presence_of_element_located((By.PARTIAL_LINK_TEXT, \"Hello World\"))\n",
    ")\n",
    "\n",
    "# what if we waant to click on something that's called 'Tech With Tim'.\n",
    "# so finding an element based on txt ..especifically link\n",
    "# so if you are looking for something to redirect to any other page\n",
    "\n",
    "\n",
    "link = driver.find_element(\n",
    "    By.PARTIAL_LINK_TEXT, \"Hello World\"  # By.LINK_TEXT for exact text   #\n",
    ")  # By.PARTIAL_LINK_TEXT if text exists in anchor tag or lnk tag\n",
    "\n",
    "link.click()\n",
    "\n",
    "time.sleep(10)\n",
    "driver.quit()"
   ]
  },
  {
   "cell_type": "code",
   "execution_count": null,
   "metadata": {},
   "outputs": [],
   "source": []
  },
  {
   "cell_type": "code",
   "execution_count": null,
   "metadata": {},
   "outputs": [],
   "source": []
  }
 ],
 "metadata": {
  "kernelspec": {
   "display_name": "torch312",
   "language": "python",
   "name": "python3"
  },
  "language_info": {
   "codemirror_mode": {
    "name": "ipython",
    "version": 3
   },
   "file_extension": ".py",
   "mimetype": "text/x-python",
   "name": "python",
   "nbconvert_exporter": "python",
   "pygments_lexer": "ipython3",
   "version": "3.12.5"
  }
 },
 "nbformat": 4,
 "nbformat_minor": 2
}
